{
 "cells": [
  {
   "cell_type": "code",
   "execution_count": 2,
   "metadata": {
    "collapsed": false
   },
   "outputs": [
    {
     "name": "stdout",
     "output_type": "stream",
     "text": [
      "No configs found; falling back on auto-configuration\n",
      "Creating temp directory /var/folders/49/ml06sd5n1kg8fr_yjgs2kn700000gn/T/RatingCounter.maningmn1987.20160803.061235.543513\n",
      "Running step 1 of 1...\n",
      "Streaming final output from /var/folders/49/ml06sd5n1kg8fr_yjgs2kn700000gn/T/RatingCounter.maningmn1987.20160803.061235.543513/output...\n",
      "\"1\"\t6110\n",
      "\"2\"\t11370\n",
      "\"3\"\t27145\n",
      "\"4\"\t34174\n",
      "\"5\"\t21201\n",
      "Removing temp directory /var/folders/49/ml06sd5n1kg8fr_yjgs2kn700000gn/T/RatingCounter.maningmn1987.20160803.061235.543513...\n"
     ]
    }
   ],
   "source": [
    "!python RatingCounter.py ml-100k/u.data"
   ]
  },
  {
   "cell_type": "code",
   "execution_count": null,
   "metadata": {
    "collapsed": true
   },
   "outputs": [],
   "source": []
  }
 ],
 "metadata": {
  "kernelspec": {
   "display_name": "Python 2",
   "language": "python",
   "name": "python2"
  },
  "language_info": {
   "codemirror_mode": {
    "name": "ipython",
    "version": 2
   },
   "file_extension": ".py",
   "mimetype": "text/x-python",
   "name": "python",
   "nbconvert_exporter": "python",
   "pygments_lexer": "ipython2",
   "version": "2.7.11"
  }
 },
 "nbformat": 4,
 "nbformat_minor": 0
}
