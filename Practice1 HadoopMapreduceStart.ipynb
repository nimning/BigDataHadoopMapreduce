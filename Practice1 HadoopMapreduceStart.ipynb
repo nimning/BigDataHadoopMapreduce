{
 "cells": [
  {
   "cell_type": "code",
   "execution_count": 9,
   "metadata": {
    "collapsed": false
   },
   "outputs": [
    {
     "name": "stdout",
     "output_type": "stream",
     "text": [
      "No configs found; falling back on auto-configuration\n",
      "Creating temp directory /var/folders/49/ml06sd5n1kg8fr_yjgs2kn700000gn/T/RatingCounter.maningmn1987.20160807.185638.123288\n",
      "Running step 1 of 1...\n",
      "Streaming final output from /var/folders/49/ml06sd5n1kg8fr_yjgs2kn700000gn/T/RatingCounter.maningmn1987.20160807.185638.123288/output...\n",
      "\"1\"\t6110\n",
      "\"2\"\t11370\n",
      "\"3\"\t27145\n",
      "\"4\"\t34174\n",
      "\"5\"\t21201\n",
      "Removing temp directory /var/folders/49/ml06sd5n1kg8fr_yjgs2kn700000gn/T/RatingCounter.maningmn1987.20160807.185638.123288...\n"
     ]
    }
   ],
   "source": [
    "!python RatingCounter.py ml-100k/u.data"
   ]
  },
  {
   "cell_type": "code",
   "execution_count": 10,
   "metadata": {
    "collapsed": false
   },
   "outputs": [
    {
     "name": "stdout",
     "output_type": "stream",
     "text": [
      "Overwriting FriendByAge.py\n"
     ]
    }
   ],
   "source": [
    "%%writefile FriendByAge.py\n",
    "from mrjob.job import MRJob\n",
    "class MRFriendsByAge(MRJob):\n",
    "    def mapper(self, key, line):\n",
    "        (ID, name, age, numFriends) = line.split(\",\")\n",
    "        yield (age, float(numFriends))\n",
    "    \n",
    "    def reducer(self, key, values):\n",
    "        sum = 0;\n",
    "        numElement = 0;\n",
    "        for val in values:\n",
    "            sum += val;\n",
    "            numElement += 1;\n",
    "        \n",
    "        yield (key, sum / numElement)\n",
    "\n",
    "if __name__ == '__main__':\n",
    "    MRFriendsByAge.run()"
   ]
  },
  {
   "cell_type": "code",
   "execution_count": 11,
   "metadata": {
    "collapsed": false
   },
   "outputs": [
    {
     "name": "stdout",
     "output_type": "stream",
     "text": [
      "No configs found; falling back on auto-configuration\r\n",
      "Creating temp directory /var/folders/49/ml06sd5n1kg8fr_yjgs2kn700000gn/T/FriendByAge.maningmn1987.20160807.185653.032870\r\n",
      "Running step 1 of 1...\r\n",
      "Streaming final output from /var/folders/49/ml06sd5n1kg8fr_yjgs2kn700000gn/T/FriendByAge.maningmn1987.20160807.185653.032870/output...\r\n",
      "\"18\"\t343.375\r\n",
      "\"19\"\t213.27272727272728\r\n",
      "\"20\"\t165.0\r\n",
      "\"21\"\t350.875\r\n",
      "\"22\"\t206.42857142857142\r\n",
      "\"23\"\t246.3\r\n",
      "\"24\"\t233.8\r\n",
      "\"25\"\t197.45454545454547\r\n",
      "\"26\"\t242.05882352941177\r\n",
      "\"27\"\t228.125\r\n",
      "\"28\"\t209.1\r\n",
      "\"29\"\t215.91666666666666\r\n",
      "\"30\"\t235.8181818181818\r\n",
      "\"31\"\t267.25\r\n",
      "\"32\"\t207.9090909090909\r\n",
      "\"33\"\t325.3333333333333\r\n",
      "\"34\"\t245.5\r\n",
      "\"35\"\t211.625\r\n",
      "\"36\"\t246.6\r\n",
      "\"37\"\t249.33333333333334\r\n",
      "\"38\"\t193.53333333333333\r\n",
      "\"39\"\t169.28571428571428\r\n",
      "\"40\"\t250.8235294117647\r\n",
      "\"41\"\t268.55555555555554\r\n",
      "\"42\"\t303.5\r\n",
      "\"43\"\t230.57142857142858\r\n",
      "\"44\"\t282.1666666666667\r\n",
      "\"45\"\t309.53846153846155\r\n",
      "\"46\"\t223.69230769230768\r\n",
      "\"47\"\t233.22222222222223\r\n",
      "\"48\"\t281.4\r\n",
      "\"49\"\t184.66666666666666\r\n",
      "\"50\"\t254.6\r\n",
      "\"51\"\t302.14285714285717\r\n",
      "\"52\"\t340.6363636363636\r\n",
      "\"53\"\t222.85714285714286\r\n",
      "\"54\"\t278.0769230769231\r\n",
      "\"55\"\t295.53846153846155\r\n",
      "\"56\"\t306.6666666666667\r\n",
      "\"57\"\t258.8333333333333\r\n",
      "\"58\"\t116.54545454545455\r\n",
      "\"59\"\t220.0\r\n",
      "\"60\"\t202.71428571428572\r\n",
      "\"61\"\t256.22222222222223\r\n",
      "\"62\"\t220.76923076923077\r\n",
      "\"63\"\t384.0\r\n",
      "\"64\"\t281.3333333333333\r\n",
      "\"65\"\t298.2\r\n",
      "\"66\"\t276.44444444444446\r\n",
      "\"67\"\t214.625\r\n",
      "\"68\"\t269.6\r\n",
      "\"69\"\t235.2\r\n",
      "Removing temp directory /var/folders/49/ml06sd5n1kg8fr_yjgs2kn700000gn/T/FriendByAge.maningmn1987.20160807.185653.032870...\r\n"
     ]
    }
   ],
   "source": [
    "!python FriendByAge.py fakefriends.csv"
   ]
  },
  {
   "cell_type": "code",
   "execution_count": 34,
   "metadata": {
    "collapsed": false
   },
   "outputs": [
    {
     "name": "stdout",
     "output_type": "stream",
     "text": [
      "Overwriting MinTemperature.py\n"
     ]
    }
   ],
   "source": [
    "%%writefile MinTemperature.py\n",
    "from mrjob.job import MRJob\n",
    "class MRMinTemperature(MRJob):\n",
    "    def MakeFahrenheit(sel, tenthsOfCelsius):\n",
    "        celsius = float(tenthsOfCelsius);\n",
    "        fahrenheit = celsius * 1.8 + 32\n",
    "        return fahrenheit\n",
    "    \n",
    "    def mapper(self, _, line):\n",
    "        (location, date, type, data, x, y, z, w) = line.split(\",\")\n",
    "        if (type == \"TMIN\"):\n",
    "            temperature = self.MakeFahrenheit(data)\n",
    "            yield location, temperature\n",
    "            \n",
    "    def reducer(self, key, temperatures):\n",
    "        yield key, min(temperatures)\n",
    "        \n",
    "if __name__ == \"__main__\":\n",
    "    MRMinTemperature.run()"
   ]
  },
  {
   "cell_type": "code",
   "execution_count": 35,
   "metadata": {
    "collapsed": false
   },
   "outputs": [
    {
     "name": "stdout",
     "output_type": "stream",
     "text": [
      "No configs found; falling back on auto-configuration\n",
      "Creating temp directory /var/folders/49/ml06sd5n1kg8fr_yjgs2kn700000gn/T/MinTemperature.maningmn1987.20160807.210148.846272\n",
      "Running step 1 of 1...\n",
      "Streaming final output from /var/folders/49/ml06sd5n1kg8fr_yjgs2kn700000gn/T/MinTemperature.maningmn1987.20160807.210148.846272/output...\n",
      "\"EZE00100082\"\t-211.0\n",
      "\"ITE00100554\"\t-234.40000000000003\n",
      "Removing temp directory /var/folders/49/ml06sd5n1kg8fr_yjgs2kn700000gn/T/MinTemperature.maningmn1987.20160807.210148.846272...\n"
     ]
    }
   ],
   "source": [
    "!python MinTemperature.py 1800.csv"
   ]
  },
  {
   "cell_type": "code",
   "execution_count": 38,
   "metadata": {
    "collapsed": false
   },
   "outputs": [
    {
     "name": "stdout",
     "output_type": "stream",
     "text": [
      "Overwriting MaxTemperature.py\n"
     ]
    }
   ],
   "source": [
    "%%writefile MaxTemperature.py\n",
    "from mrjob.job import MRJob\n",
    "class MRMaxTemperature(MRJob):\n",
    "    def MakeFahrenheit(sel, tenthsOfCelsius):\n",
    "        celsius = float(tenthsOfCelsius);\n",
    "        fahrenheit = celsius * 1.8 + 32\n",
    "        return fahrenheit\n",
    "    \n",
    "    def mapper(self, _, line):\n",
    "        (location, date, type, data, x, y, z, w) = line.split(\",\")\n",
    "        if (type == \"TMAX\"):\n",
    "            temperature = self.MakeFahrenheit(data)\n",
    "            yield (location, temperature)\n",
    "            \n",
    "    def reducer(self, key, temperatures):\n",
    "        yield (key, max(temperatures))\n",
    "        \n",
    "if __name__ == \"__main__\":\n",
    "    MRMaxTemperature.run()"
   ]
  },
  {
   "cell_type": "code",
   "execution_count": 39,
   "metadata": {
    "collapsed": false
   },
   "outputs": [
    {
     "name": "stdout",
     "output_type": "stream",
     "text": [
      "No configs found; falling back on auto-configuration\n",
      "Creating temp directory /var/folders/49/ml06sd5n1kg8fr_yjgs2kn700000gn/T/MaxTemperature.maningmn1987.20160807.210227.196863\n",
      "Running step 1 of 1...\n",
      "Streaming final output from /var/folders/49/ml06sd5n1kg8fr_yjgs2kn700000gn/T/MaxTemperature.maningmn1987.20160807.210227.196863/output...\n",
      "\"EZE00100082\"\t613.4\n",
      "\"ITE00100554\"\t613.4\n",
      "Removing temp directory /var/folders/49/ml06sd5n1kg8fr_yjgs2kn700000gn/T/MaxTemperature.maningmn1987.20160807.210227.196863...\n"
     ]
    }
   ],
   "source": [
    "!python MaxTemperature.py 1800.csv"
   ]
  },
  {
   "cell_type": "code",
   "execution_count": 42,
   "metadata": {
    "collapsed": false
   },
   "outputs": [
    {
     "name": "stdout",
     "output_type": "stream",
     "text": [
      "Overwriting WordFrequencyCount.py\n"
     ]
    }
   ],
   "source": [
    "%%writefile WordFrequencyCount.py\n",
    "from mrjob.job import MRJob\n",
    "\n",
    "class MRWordFrequencyCount(MRJob):\n",
    "    def mapper(self, _, line):\n",
    "        words = line.split()\n",
    "        for word in words:\n",
    "            yield (word.lower(), 1)\n",
    "            \n",
    "    def reducer(self, key, values):\n",
    "        yield (key, sum(values))\n",
    "        \n",
    "if __name__ == \"__main__\":\n",
    "    MRWordFrequencyCount.run()"
   ]
  },
  {
   "cell_type": "code",
   "execution_count": 44,
   "metadata": {
    "collapsed": false
   },
   "outputs": [
    {
     "name": "stdout",
     "output_type": "stream",
     "text": [
      "No configs found; falling back on auto-configuration\r\n",
      "Creating temp directory /var/folders/49/ml06sd5n1kg8fr_yjgs2kn700000gn/T/WordFrequencyCount.maningmn1987.20160807.210505.254738\r\n",
      "Running step 1 of 1...\r\n",
      "Traceback (most recent call last):\r\n",
      "  File \"WordFrequencyCount.py\", line 13, in <module>\r\n",
      "    MRWordFrequencyCount.run()\r\n",
      "  File \"/Users/maningmn1987/anaconda/lib/python2.7/site-packages/mrjob/job.py\", line 433, in run\r\n",
      "    mr_job.execute()\r\n",
      "  File \"/Users/maningmn1987/anaconda/lib/python2.7/site-packages/mrjob/job.py\", line 451, in execute\r\n",
      "    super(MRJob, self).execute()\r\n",
      "  File \"/Users/maningmn1987/anaconda/lib/python2.7/site-packages/mrjob/launch.py\", line 160, in execute\r\n",
      "    self.run_job()\r\n",
      "  File \"/Users/maningmn1987/anaconda/lib/python2.7/site-packages/mrjob/launch.py\", line 230, in run_job\r\n",
      "    runner.run()\r\n",
      "  File \"/Users/maningmn1987/anaconda/lib/python2.7/site-packages/mrjob/runner.py\", line 474, in run\r\n",
      "    self._run()\r\n",
      "  File \"/Users/maningmn1987/anaconda/lib/python2.7/site-packages/mrjob/sim.py\", line 186, in _run\r\n",
      "    self._invoke_step(step_num, 'mapper')\r\n",
      "  File \"/Users/maningmn1987/anaconda/lib/python2.7/site-packages/mrjob/sim.py\", line 273, in _invoke_step\r\n",
      "    working_dir, env)\r\n",
      "  File \"/Users/maningmn1987/anaconda/lib/python2.7/site-packages/mrjob/inline.py\", line 154, in _run_step\r\n",
      "    child_instance.execute()\r\n",
      "  File \"/Users/maningmn1987/anaconda/lib/python2.7/site-packages/mrjob/job.py\", line 442, in execute\r\n",
      "    self.run_mapper(self.options.step_num)\r\n",
      "  File \"/Users/maningmn1987/anaconda/lib/python2.7/site-packages/mrjob/job.py\", line 508, in run_mapper\r\n",
      "    write_line(out_key, out_value)\r\n",
      "  File \"/Users/maningmn1987/anaconda/lib/python2.7/site-packages/mrjob/job.py\", line 688, in write_line\r\n",
      "    self.stdout.write(write(key, value))\r\n",
      "  File \"/Users/maningmn1987/anaconda/lib/python2.7/site-packages/mrjob/protocol.py\", line 99, in write\r\n",
      "    return self._dumps(key) + b'\\t' + self._dumps(value)\r\n",
      "  File \"/Users/maningmn1987/anaconda/lib/python2.7/site-packages/mrjob/protocol.py\", line 162, in _dumps\r\n",
      "    return simplejson.dumps(value)\r\n",
      "  File \"/Users/maningmn1987/anaconda/lib/python2.7/site-packages/simplejson/__init__.py\", line 380, in dumps\r\n",
      "    return _default_encoder.encode(obj)\r\n",
      "  File \"/Users/maningmn1987/anaconda/lib/python2.7/site-packages/simplejson/encoder.py\", line 269, in encode\r\n",
      "    return encode_basestring_ascii(o)\r\n",
      "UnicodeDecodeError: 'utf8' codec can't decode byte 0xa9 in position 0: invalid start byte\r\n"
     ]
    }
   ],
   "source": [
    "!python WordFrequencyCount.py Book.txt"
   ]
  },
  {
   "cell_type": "code",
   "execution_count": null,
   "metadata": {
    "collapsed": true
   },
   "outputs": [],
   "source": []
  }
 ],
 "metadata": {
  "kernelspec": {
   "display_name": "Python 2",
   "language": "python",
   "name": "python2"
  },
  "language_info": {
   "codemirror_mode": {
    "name": "ipython",
    "version": 2
   },
   "file_extension": ".py",
   "mimetype": "text/x-python",
   "name": "python",
   "nbconvert_exporter": "python",
   "pygments_lexer": "ipython2",
   "version": "2.7.11"
  }
 },
 "nbformat": 4,
 "nbformat_minor": 0
}
