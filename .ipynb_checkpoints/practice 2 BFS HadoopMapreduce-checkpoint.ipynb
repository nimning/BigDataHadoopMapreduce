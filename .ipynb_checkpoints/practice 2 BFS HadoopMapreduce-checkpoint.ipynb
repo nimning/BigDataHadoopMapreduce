{
 "cells": [
  {
   "cell_type": "code",
   "execution_count": 1,
   "metadata": {
    "collapsed": true
   },
   "outputs": [],
   "source": [
    "import sys"
   ]
  },
  {
   "cell_type": "code",
   "execution_count": 3,
   "metadata": {
    "collapsed": false
   },
   "outputs": [
    {
     "name": "stdout",
     "output_type": "stream",
     "text": [
      "Creating BFS starting input for character-f\n"
     ]
    }
   ],
   "source": [
    "print 'Creating BFS starting input for character' + sys.argv[1]"
   ]
  },
  {
   "cell_type": "code",
   "execution_count": 30,
   "metadata": {
    "collapsed": false
   },
   "outputs": [
    {
     "name": "stdout",
     "output_type": "stream",
     "text": [
      "Overwriting processMarvel.py\n"
     ]
    }
   ],
   "source": [
    "%%writefile processMarvel.py\n",
    "#spider man ID is 5306\n",
    "import sys\n",
    "print 'Creating BFS starting input for character' + sys.argv[1]\n",
    "\n",
    "with open(\"BFS-iteration-0.txt\", 'w') as out:\n",
    "    with open(\"Marvel-graph.txt\") as f:\n",
    "        for line in f:\n",
    "            fields = line.split()\n",
    "            heroID = fields[0]\n",
    "            numConnections = len(fields) - 1\n",
    "            connections = fields[-numConnections:]\n",
    "\n",
    "            color = 'WHITE'\n",
    "            distance = 9999\n",
    "\n",
    "            if (heroID == sys.argv[1]):\n",
    "                color = 'GRAY'\n",
    "                distance = '0'\n",
    "            if(heroID != ''):\n",
    "                edges = ','.join(connections)\n",
    "                outStr = '|'.join((heroID, edges, str(distance), color))\n",
    "                out.write(outStr)\n",
    "                out.write(\"\\n\")\n",
    "    f.close()\n",
    "out.close()"
   ]
  },
  {
   "cell_type": "code",
   "execution_count": 31,
   "metadata": {
    "collapsed": false
   },
   "outputs": [
    {
     "data": {
      "text/plain": [
       "[4]"
      ]
     },
     "execution_count": 31,
     "metadata": {},
     "output_type": "execute_result"
    }
   ],
   "source": [
    "a = [1,2,3,4]\n",
    "a[-1:]"
   ]
  },
  {
   "cell_type": "code",
   "execution_count": 32,
   "metadata": {
    "collapsed": false
   },
   "outputs": [
    {
     "data": {
      "text/plain": [
       "'1|2|3|4'"
      ]
     },
     "execution_count": 32,
     "metadata": {},
     "output_type": "execute_result"
    }
   ],
   "source": [
    "'|'.join(('1','2','3','4'))"
   ]
  },
  {
   "cell_type": "code",
   "execution_count": 33,
   "metadata": {
    "collapsed": false
   },
   "outputs": [
    {
     "name": "stdout",
     "output_type": "stream",
     "text": [
      "Creating BFS starting input for character2548\r\n"
     ]
    }
   ],
   "source": [
    "!python processMarvel.py 2548"
   ]
  },
  {
   "cell_type": "code",
   "execution_count": 29,
   "metadata": {
    "collapsed": false
   },
   "outputs": [
    {
     "name": "stdout",
     "output_type": "stream",
     "text": [
      "Overwriting BFSIteration.py\n"
     ]
    }
   ],
   "source": [
    "%%writefile BFSIteration.py\n",
    "from mrjob.job import MRJob\n",
    "from mrjob.protocol import RawValueProtocol\n",
    "\n",
    "class Node:\n",
    "    def __init__(self):\n",
    "        self.characterID = ''\n",
    "        self.connections = []\n",
    "        self.distance = 9999\n",
    "        self.color = 'WHITE'\n",
    "    #Format of line is ID|EDGES|DISTANCE|COLOR \n",
    "    def fromLine(self, line):\n",
    "        fields = line.split('|')\n",
    "        if (len(fields) == 4):\n",
    "            self.characterID = fields[0]\n",
    "            self.connections = fields[1].split(',')\n",
    "            self.distance = int(fields[2])\n",
    "            self.color = fields[3]\n",
    "    def getLine(self):\n",
    "        connections = ','.join(self.connections)\n",
    "        return '|'.join((self.characterID, connections, str(self.distance), self.color))\n",
    "\n",
    "\n",
    "class MRBFSIteration(MRJob):\n",
    "    #we can use the output as the input without additional processing\n",
    "    #Otherwise, the default format for output is json format\n",
    "    INPUT_PROTOCOL = RawValueProtocol\n",
    "    OUTPUT_PROTOCOL = RawValueProtocol\n",
    "    \n",
    "    def configure_options(self):\n",
    "        super(MRBFSIteration, self).configure_options();\n",
    "        #which character we want to measure degree of seperation to\n",
    "        #This target will be passed along each node\n",
    "        self.add_passthrough_option('--target', help = \"ID of character we are searching for\")\n",
    "    \n",
    "    def mapper(self, _, line):\n",
    "        node = Node()\n",
    "        node.fromLine(line)\n",
    "        #if this node needs to be expanded. Set the color as gray\n",
    "        #is like pushing the node into the queue\n",
    "        #Note: the starting point is Hulk (ID: 2548). So, the color\n",
    "        #of node 2548 is gray, and the distance is 0\n",
    "        if (node.color == 'GRAY'):\n",
    "            for connection in node.connections:\n",
    "                vnode = Node()\n",
    "                vnode.characterID = connection\n",
    "                vnode.distance = int(node.distance) + 1\n",
    "                vnode.color = 'GRAY'\n",
    "                if (self.options.target == connection):\n",
    "                    counterName = (\"Target ID \" + connection +\n",
    "                                  \" was hit with distance \" + str(vnode.distance))\n",
    "                    #Increment a counter in Hadoop streaming by printing to stderr\n",
    "                    self.increment_counter('Degree of Seperation',\n",
    "                                          counterName, 1)\n",
    "                yield connection, vnode.getLine()\n",
    "            #we have processed this node, so color it black (poped\n",
    "            #out of the queue)\n",
    "            node.color = 'BLACK'\n",
    "        #emit input node\n",
    "        yield node.characterID, node.getLine()\n",
    "    \n",
    "    def reducer(self, key, values):\n",
    "        edges = []\n",
    "        distance = 9999\n",
    "        color = 'WHITE'\n",
    "        \n",
    "        for value in values:\n",
    "            node = Node()\n",
    "            node.fromLine(value)\n",
    "            \n",
    "            if (len(node.connections) > 0):\n",
    "                edges.extend(node.connections)\n",
    "                \n",
    "            #make sure degree of sepeartion is shortest\n",
    "            if (node.distance < distance):\n",
    "                distance = node.distance\n",
    "            \n",
    "            #if this node has been explored\n",
    "            if (node.color == \"BLACK\"):\n",
    "                color = 'BLACK'\n",
    "            \n",
    "            #if this node has not been explored at this moment\n",
    "            if (node.color == 'GRAY' and color == 'WHITE'):\n",
    "                color = 'GRAY'\n",
    "                \n",
    "        \n",
    "        node = Node()\n",
    "        node.characterID = key\n",
    "        node.distance = distance\n",
    "        node.color = color\n",
    "        #There's a bug in mrjob for Windows where sorting fails\n",
    "        #with too much data. As a workaround, we're limiting the\n",
    "        #number of edges to 500 here. You'd remove the [:500] if you\n",
    "        #were running this for real on a Linux cluster.\n",
    "        \n",
    "        node.connections = edges\n",
    "        yield key, node.getLine()\n",
    "        \n",
    "if __name__ == '__main__':\n",
    "    MRBFSIteration.run()"
   ]
  },
  {
   "cell_type": "code",
   "execution_count": 30,
   "metadata": {
    "collapsed": false
   },
   "outputs": [
    {
     "name": "stdout",
     "output_type": "stream",
     "text": [
      "No configs found; falling back on auto-configuration\n",
      "Creating temp directory /var/folders/49/ml06sd5n1kg8fr_yjgs2kn700000gn/T/BFSIteration.maningmn1987.20160824.050709.136878\n",
      "Running step 1 of 1...\n",
      "Streaming final output from /var/folders/49/ml06sd5n1kg8fr_yjgs2kn700000gn/T/BFSIteration.maningmn1987.20160824.050709.136878/output...\n",
      "Removing temp directory /var/folders/49/ml06sd5n1kg8fr_yjgs2kn700000gn/T/BFSIteration.maningmn1987.20160824.050709.136878...\n"
     ]
    }
   ],
   "source": [
    "!python BFSIteration.py --target=100 BFS-iteration-0.txt > BFS-iteration-1.txt"
   ]
  },
  {
   "cell_type": "code",
   "execution_count": 31,
   "metadata": {
    "collapsed": false
   },
   "outputs": [
    {
     "name": "stdout",
     "output_type": "stream",
     "text": [
      "No configs found; falling back on auto-configuration\n",
      "Creating temp directory /var/folders/49/ml06sd5n1kg8fr_yjgs2kn700000gn/T/BFSIteration.maningmn1987.20160824.050711.158033\n",
      "Running step 1 of 1...\n",
      "Counters: 1\n",
      "\tDegree of Seperation\n",
      "\t\tTarget ID 100 was hit with distance 2=2\n",
      "Counters: 1\n",
      "\tDegree of Seperation\n",
      "\t\tTarget ID 100 was hit with distance 2=2\n",
      "Streaming final output from /var/folders/49/ml06sd5n1kg8fr_yjgs2kn700000gn/T/BFSIteration.maningmn1987.20160824.050711.158033/output...\n",
      "Removing temp directory /var/folders/49/ml06sd5n1kg8fr_yjgs2kn700000gn/T/BFSIteration.maningmn1987.20160824.050711.158033...\n"
     ]
    }
   ],
   "source": [
    "!python BFSIteration.py --target=100 BFS-iteration-1.txt > BFS-iteration-2.txt"
   ]
  },
  {
   "cell_type": "code",
   "execution_count": 90,
   "metadata": {
    "collapsed": false
   },
   "outputs": [
    {
     "name": "stdout",
     "output_type": "stream",
     "text": [
      "Overwriting MovieSimilarities.py\n"
     ]
    }
   ],
   "source": [
    "%%writefile MovieSimilarities.py\n",
    "from mrjob.job import MRJob\n",
    "from mrjob.step import MRStep\n",
    "from math import sqrt\n",
    "\n",
    "from itertools import combinations\n",
    "\n",
    "class MRMovieSimilarities(MRJob):\n",
    "    def configure_options(self):\n",
    "        super(MRMovieSimilarities, self).configure_options()\n",
    "        self.add_file_option('--items',help = 'u.item')\n",
    "        \n",
    "    def load_movie_names(self):\n",
    "        #load database of moview names, so we have movie names instead\n",
    "        #of movie ID\n",
    "        self.movieNames = {}\n",
    "        \n",
    "        with open(\"u.item\") as f:\n",
    "            for line in f:\n",
    "                fields = line.split('|')\n",
    "                self.movieNames[int(fields[0])] = fields[1].decode('utf-8','ignore')\n",
    "                \n",
    "    def steps(self):\n",
    "        return [\n",
    "            MRStep(mapper = self.mapperRatingByUser,\n",
    "                   reducer = self.reducerRatingByUser),\n",
    "            MRStep(mapper = self.mapperMoviePair,\n",
    "                  reducer = self.reducerCosineSimilarity),\n",
    "            MRStep(mapper = self.mapperSortSimilarity,\n",
    "                   mapper_init=self.load_movie_names,\n",
    "                   reducer = self.reducerOutputSimilarity)\n",
    "        ]\n",
    "    def mapperRatingByUser(self, key, line):\n",
    "        (userID, movieID, rating, timeStamp) = line.split('\\t')\n",
    "        yield userID, (movieID, float(rating))\n",
    "\n",
    "    def reducerRatingByUser(self, userID, movieRatings):\n",
    "        #list is json serializable\n",
    "        ratings = []\n",
    "        for movieID, rating in movieRatings:\n",
    "            ratings.append((movieID, rating))\n",
    "        \n",
    "        #you will get generator object <genexpr> at 0x1058a7550> is not JSON serializable\n",
    "        #yield userID, movieRatings\n",
    "        yield userID, ratings\n",
    "\n",
    "    def mapperMoviePair(self, userID, movieRatings):\n",
    "        for movieRatings1, movieRatings2 in combinations(movieRatings,2):\n",
    "            movieID1 = movieRatings1[0]\n",
    "            rating1 = movieRatings1[1]\n",
    "            movieID2 = movieRatings2[0]\n",
    "            rating2 = movieRatings2[1]\n",
    "\n",
    "            yield(movieID1, movieID2), (rating1, rating2)\n",
    "            yield(movieID2, movieID1), (rating2, rating1)\n",
    "\n",
    "    def cosineSimilarity(self, ratingPairs):\n",
    "        numPairs = 0\n",
    "        sumX = sumY = sumXY = 0\n",
    "\n",
    "        for ratingX, ratingY in ratingPairs:\n",
    "            sumX += ratingX * ratingX\n",
    "            sumY += ratingY * ratingY\n",
    "            sumXY += ratingX * ratingY\n",
    "            numPairs += 1\n",
    "\n",
    "        numerator = sumXY\n",
    "        denominator = sqrt(sumX)*sqrt(sumY)\n",
    "        score = 0\n",
    "        if (denominator != 0):\n",
    "            score = numerator / (float(denominator))\n",
    "        return (score, numPairs)\n",
    "\n",
    "    def reducerCosineSimilarity(self, moviePair, ratingPairs):\n",
    "\n",
    "        score, numPairs = self.cosineSimilarity(ratingPairs)\n",
    "        #a little filter to ensure quality\n",
    "        if (numPairs > 10 and score > 0.95):\n",
    "            yield moviePair, (score, numPairs)\n",
    "\n",
    "    def mapperSortSimilarity(self, moviePair, scores):\n",
    "        score, n = scores\n",
    "        movie1, movie2 = moviePair\n",
    "\n",
    "        yield (self.movieNames[int(movie1)], score),\\\n",
    "        (self.movieNames[int(movie2)], n)\n",
    "    def reducerOutputSimilarity(self, movieScore, movieNumPair):\n",
    "        movie1, score = movieScore\n",
    "        for movie2, numPair in movieNumPair:\n",
    "            yield movie1, (movie2, score, numPair)\n",
    "                \n",
    "if __name__ == \"__main__\":\n",
    "    MRMovieSimilarities.run()\n",
    "                \n",
    "            "
   ]
  },
  {
   "cell_type": "code",
   "execution_count": 91,
   "metadata": {
    "collapsed": false
   },
   "outputs": [
    {
     "name": "stdout",
     "output_type": "stream",
     "text": [
      "No configs found; falling back on auto-configuration\n",
      "Creating temp directory /var/folders/49/ml06sd5n1kg8fr_yjgs2kn700000gn/T/MovieSimilarities.maningmn1987.20160829.034203.381265\n",
      "Running step 1 of 3...\n",
      "Running step 2 of 3...\n",
      "Running step 3 of 3...\n",
      "Traceback (most recent call last):\n",
      "  File \"MovieSimilarities.py\", line 92, in <module>\n",
      "    MRMovieSimilarities.run()\n",
      "  File \"/Users/maningmn1987/anaconda/lib/python2.7/site-packages/mrjob/job.py\", line 433, in run\n",
      "    mr_job.execute()\n",
      "  File \"/Users/maningmn1987/anaconda/lib/python2.7/site-packages/mrjob/job.py\", line 451, in execute\n",
      "    super(MRJob, self).execute()\n",
      "  File \"/Users/maningmn1987/anaconda/lib/python2.7/site-packages/mrjob/launch.py\", line 160, in execute\n",
      "    self.run_job()\n",
      "  File \"/Users/maningmn1987/anaconda/lib/python2.7/site-packages/mrjob/launch.py\", line 230, in run_job\n",
      "    runner.run()\n",
      "  File \"/Users/maningmn1987/anaconda/lib/python2.7/site-packages/mrjob/runner.py\", line 474, in run\n",
      "    self._run()\n",
      "  File \"/Users/maningmn1987/anaconda/lib/python2.7/site-packages/mrjob/sim.py\", line 199, in _run\n",
      "    self._invoke_step(step_num, 'reducer')\n",
      "  File \"/Users/maningmn1987/anaconda/lib/python2.7/site-packages/mrjob/sim.py\", line 273, in _invoke_step\n",
      "    working_dir, env)\n",
      "  File \"/Users/maningmn1987/anaconda/lib/python2.7/site-packages/mrjob/inline.py\", line 154, in _run_step\n",
      "    child_instance.execute()\n",
      "  File \"/Users/maningmn1987/anaconda/lib/python2.7/site-packages/mrjob/job.py\", line 448, in execute\n",
      "    self.run_reducer(self.options.step_num)\n",
      "  File \"/Users/maningmn1987/anaconda/lib/python2.7/site-packages/mrjob/job.py\", line 552, in run_reducer\n",
      "    for out_key, out_value in reducer(key, values) or ():\n",
      "  File \"MovieSimilarities.py\", line 89, in reducerOutputSimilarity\n",
      "    yield movie1, (movie2, score, n)\n",
      "NameError: global name 'n' is not defined\n"
     ]
    }
   ],
   "source": [
    "!python MovieSimilarities.py --items=ml-100k/u.item ml-100k/u.data > sims.txt"
   ]
  },
  {
   "cell_type": "code",
   "execution_count": null,
   "metadata": {
    "collapsed": true
   },
   "outputs": [],
   "source": []
  },
  {
   "cell_type": "code",
   "execution_count": null,
   "metadata": {
    "collapsed": true
   },
   "outputs": [],
   "source": []
  },
  {
   "cell_type": "code",
   "execution_count": null,
   "metadata": {
    "collapsed": true
   },
   "outputs": [],
   "source": []
  },
  {
   "cell_type": "code",
   "execution_count": 71,
   "metadata": {
    "collapsed": false
   },
   "outputs": [
    {
     "name": "stdout",
     "output_type": "stream",
     "text": [
      "1 2\n",
      "3 4\n"
     ]
    }
   ],
   "source": [
    "c = [(1,2),(3,4)]\n",
    "c\n",
    "\n",
    "for a, b in c:\n",
    "    print a,b"
   ]
  },
  {
   "cell_type": "code",
   "execution_count": 38,
   "metadata": {
    "collapsed": true
   },
   "outputs": [],
   "source": [
    "from itertools import combinations"
   ]
  },
  {
   "cell_type": "code",
   "execution_count": 39,
   "metadata": {
    "collapsed": false
   },
   "outputs": [
    {
     "data": {
      "text/plain": [
       "<itertools.combinations at 0x107099aa0>"
      ]
     },
     "execution_count": 39,
     "metadata": {},
     "output_type": "execute_result"
    }
   ],
   "source": [
    "combinations(c,2)"
   ]
  },
  {
   "cell_type": "code",
   "execution_count": 42,
   "metadata": {
    "collapsed": false
   },
   "outputs": [
    {
     "name": "stdout",
     "output_type": "stream",
     "text": [
      "2 (3, 4)\n"
     ]
    }
   ],
   "source": [
    "for a, b in combinations(c,2):\n",
    "    print a[1], b"
   ]
  },
  {
   "cell_type": "code",
   "execution_count": 46,
   "metadata": {
    "collapsed": false
   },
   "outputs": [
    {
     "data": {
      "text/plain": [
       "1"
      ]
     },
     "execution_count": 46,
     "metadata": {},
     "output_type": "execute_result"
    }
   ],
   "source": [
    "cmp((1,5),(1,4))"
   ]
  },
  {
   "cell_type": "code",
   "execution_count": 48,
   "metadata": {
    "collapsed": false
   },
   "outputs": [
    {
     "name": "stdout",
     "output_type": "stream",
     "text": [
      "1 2\n"
     ]
    }
   ],
   "source": [
    "a,b = c[0]\n",
    "print a,b"
   ]
  },
  {
   "cell_type": "code",
   "execution_count": null,
   "metadata": {
    "collapsed": true
   },
   "outputs": [],
   "source": []
  }
 ],
 "metadata": {
  "kernelspec": {
   "display_name": "Python 2",
   "language": "python",
   "name": "python2"
  },
  "language_info": {
   "codemirror_mode": {
    "name": "ipython",
    "version": 2
   },
   "file_extension": ".py",
   "mimetype": "text/x-python",
   "name": "python",
   "nbconvert_exporter": "python",
   "pygments_lexer": "ipython2",
   "version": "2.7.11"
  }
 },
 "nbformat": 4,
 "nbformat_minor": 0
}
