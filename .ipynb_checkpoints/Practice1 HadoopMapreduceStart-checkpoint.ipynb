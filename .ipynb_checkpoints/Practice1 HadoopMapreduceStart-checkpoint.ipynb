{
 "cells": [
  {
   "cell_type": "code",
   "execution_count": 2,
   "metadata": {
    "collapsed": false
   },
   "outputs": [
    {
     "name": "stdout",
     "output_type": "stream",
     "text": [
      "No configs found; falling back on auto-configuration\n",
      "Creating temp directory /var/folders/49/ml06sd5n1kg8fr_yjgs2kn700000gn/T/RatingCounter.maningmn1987.20160803.061235.543513\n",
      "Running step 1 of 1...\n",
      "Streaming final output from /var/folders/49/ml06sd5n1kg8fr_yjgs2kn700000gn/T/RatingCounter.maningmn1987.20160803.061235.543513/output...\n",
      "\"1\"\t6110\n",
      "\"2\"\t11370\n",
      "\"3\"\t27145\n",
      "\"4\"\t34174\n",
      "\"5\"\t21201\n",
      "Removing temp directory /var/folders/49/ml06sd5n1kg8fr_yjgs2kn700000gn/T/RatingCounter.maningmn1987.20160803.061235.543513...\n"
     ]
    }
   ],
   "source": [
    "!python RatingCounter.py ml-100k/u.data"
   ]
  },
  {
   "cell_type": "code",
   "execution_count": 3,
   "metadata": {
    "collapsed": false
   },
   "outputs": [
    {
     "name": "stdout",
     "output_type": "stream",
     "text": [
      "Overwriting FriendByAge.py\n"
     ]
    }
   ],
   "source": [
    "%%writefile FriendByAge.py\n",
    "from mrjob.job import MRJob\n",
    "class MRFriendsByAge(MRJob):\n",
    "    def mapper(self, key, line):\n",
    "        (ID, name, age, numFriends) = line.split(\",\")\n",
    "        yield (age, float(numFriends))\n",
    "    \n",
    "    def reducer(self, key, values):\n",
    "        sum = 0;\n",
    "        for val in values:\n",
    "            sum += val;\n",
    "        \n",
    "        yield (key, sum / len(values))\n",
    "\n",
    "if __name__ == '__main__':\n",
    "    MRFriendsByAge.run()"
   ]
  },
  {
   "cell_type": "code",
   "execution_count": 4,
   "metadata": {
    "collapsed": false
   },
   "outputs": [
    {
     "name": "stdout",
     "output_type": "stream",
     "text": [
      "No configs found; falling back on auto-configuration\n",
      "Creating temp directory /var/folders/49/ml06sd5n1kg8fr_yjgs2kn700000gn/T/FriendByAge.maningmn1987.20160807.184949.573814\n",
      "Running step 1 of 1...\n",
      "Traceback (most recent call last):\n",
      "  File \"FriendByAge.py\", line 15, in <module>\n",
      "    MRFriendsByAge.run()\n",
      "  File \"/Users/maningmn1987/anaconda/lib/python2.7/site-packages/mrjob/job.py\", line 433, in run\n",
      "    mr_job.execute()\n",
      "  File \"/Users/maningmn1987/anaconda/lib/python2.7/site-packages/mrjob/job.py\", line 451, in execute\n",
      "    super(MRJob, self).execute()\n",
      "  File \"/Users/maningmn1987/anaconda/lib/python2.7/site-packages/mrjob/launch.py\", line 160, in execute\n",
      "    self.run_job()\n",
      "  File \"/Users/maningmn1987/anaconda/lib/python2.7/site-packages/mrjob/launch.py\", line 230, in run_job\n",
      "    runner.run()\n",
      "  File \"/Users/maningmn1987/anaconda/lib/python2.7/site-packages/mrjob/runner.py\", line 474, in run\n",
      "    self._run()\n",
      "  File \"/Users/maningmn1987/anaconda/lib/python2.7/site-packages/mrjob/sim.py\", line 199, in _run\n",
      "    self._invoke_step(step_num, 'reducer')\n",
      "  File \"/Users/maningmn1987/anaconda/lib/python2.7/site-packages/mrjob/sim.py\", line 273, in _invoke_step\n",
      "    working_dir, env)\n",
      "  File \"/Users/maningmn1987/anaconda/lib/python2.7/site-packages/mrjob/inline.py\", line 154, in _run_step\n",
      "    child_instance.execute()\n",
      "  File \"/Users/maningmn1987/anaconda/lib/python2.7/site-packages/mrjob/job.py\", line 448, in execute\n",
      "    self.run_reducer(self.options.step_num)\n",
      "  File \"/Users/maningmn1987/anaconda/lib/python2.7/site-packages/mrjob/job.py\", line 552, in run_reducer\n",
      "    for out_key, out_value in reducer(key, values) or ():\n",
      "  File \"FriendByAge.py\", line 12, in reducer\n",
      "    yield (age, sum / len(values))\n",
      "NameError: global name 'age' is not defined\n"
     ]
    }
   ],
   "source": [
    "!python FriendByAge.py fakefriends.csv"
   ]
  },
  {
   "cell_type": "code",
   "execution_count": null,
   "metadata": {
    "collapsed": true
   },
   "outputs": [],
   "source": []
  }
 ],
 "metadata": {
  "kernelspec": {
   "display_name": "Python 2",
   "language": "python",
   "name": "python2"
  },
  "language_info": {
   "codemirror_mode": {
    "name": "ipython",
    "version": 2
   },
   "file_extension": ".py",
   "mimetype": "text/x-python",
   "name": "python",
   "nbconvert_exporter": "python",
   "pygments_lexer": "ipython2",
   "version": "2.7.11"
  }
 },
 "nbformat": 4,
 "nbformat_minor": 0
}
